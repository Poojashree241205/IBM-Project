
import gradio as gr
import torch
from transformers import AutoTokenizer, AutoModelForCausalLM

# Load model and tokenizer
model_name = "ibm-granite/granite-3.2-2b-instruct"
tokenizer = AutoTokenizer.from_pretrained(model_name)
model = AutoModelForCausalLM.from_pretrained(
    model_name,
    torch_dtype=torch.float16 if torch.cuda.is_available() else torch.float32,
    device_map="auto" if torch.cuda.is_available() else None
)

if tokenizer.pad_token is None:
    tokenizer.pad_token = tokenizer.eos_token

def generate_response(prompt, max_length=800):
    inputs = tokenizer(prompt, return_tensors="pt", truncation=True, max_length=512)
    if torch.cuda.is_available():
        inputs = {k: v.to(model.device) for k, v in inputs.items()}
    with torch.no_grad():
        outputs = model.generate(
            **inputs,
            max_length=max_length,
            temperature=0.7,
            do_sample=True,
            pad_token_id=tokenizer.eos_token_id
        )
    return tokenizer.decode(outputs[0], skip_special_tokens=True).replace(prompt, "").strip()

# Gradio UI
def concept_explanation(concept):
    return generate_response(f"Explain the concept of {concept} with examples:")

def quiz_generator(topic):
    return generate_response(f"Generate 5 quiz questions on {topic} (multiple choice, true/false, short answer). Include answers at the end:")

with gr.Blocks() as app:
    gr.Markdown("## 📘 Educational AI Assistant")

    with gr.Row():
        with gr.Column():
            concept = gr.Textbox(label="Concept")
            explain_btn = gr.Button("Explain Concept")
            output1 = gr.Textbox(label="Explanation", lines=10)
            explain_btn.click(concept_explanation, concept, output1)

        with gr.Column():
            topic = gr.Textbox(label="Quiz Topic")
            quiz_btn = gr.Button("Generate Quiz")
            output2 = gr.Textbox(label="Quiz + Answers", lines=15)
            quiz_btn.click(quiz_generator, topic, output2)

app.launch()
